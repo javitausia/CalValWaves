{
 "cells": [
  {
   "cell_type": "code",
   "execution_count": 1,
   "metadata": {},
   "outputs": [],
   "source": [
    "# common\n",
    "import sys\n",
    "import os\n",
    "import os.path as op\n",
    "\n",
    "# basic\n",
    "import numpy as np\n",
    "import pandas as pd\n",
    "import xarray as xr\n",
    "from scipy.io import loadmat\n",
    "from time import time\n",
    "\n",
    "# custom\n",
    "# calval wrap module\n",
    "from lib import calval\n",
    "# functions\n",
    "from lib import functions"
   ]
  },
  {
   "cell_type": "code",
   "execution_count": 2,
   "metadata": {},
   "outputs": [],
   "source": [
    "# initial time to see the duration of the notebook\n",
    "t0 = time()"
   ]
  },
  {
   "cell_type": "code",
   "execution_count": 6,
   "metadata": {},
   "outputs": [
    {
     "ename": "ModuleNotFoundError",
     "evalue": "No module named 'calval'",
     "output_type": "error",
     "traceback": [
      "\u001b[0;31m---------------------------------------------------------------------------\u001b[0m",
      "\u001b[0;31mModuleNotFoundError\u001b[0m                       Traceback (most recent call last)",
      "\u001b[0;32m<ipython-input-6-dbc456f9a40a>\u001b[0m in \u001b[0;36m<module>\u001b[0;34m\u001b[0m\n\u001b[1;32m      3\u001b[0m \u001b[0;34m\u001b[0m\u001b[0m\n\u001b[1;32m      4\u001b[0m \u001b[0;31m# calval wrap module\u001b[0m\u001b[0;34m\u001b[0m\u001b[0;34m\u001b[0m\u001b[0;34m\u001b[0m\u001b[0m\n\u001b[0;32m----> 5\u001b[0;31m \u001b[0;32mfrom\u001b[0m \u001b[0mcalval\u001b[0m \u001b[0;32mimport\u001b[0m \u001b[0mCalVal\u001b[0m\u001b[0;34m\u001b[0m\u001b[0;34m\u001b[0m\u001b[0m\n\u001b[0m",
      "\u001b[0;31mModuleNotFoundError\u001b[0m: No module named 'calval'"
     ]
    }
   ],
   "source": [
    "# data \n",
    "p_data = op.join(os.getcwd(), 'data')\n",
    "\n",
    "buoy       =  pd.read_pickle(p_data, 'Bilbao-Vizcaya Ext.pkl')\n",
    "csiro      =  pd.read_pickle(p_data, 'csiro_dataframe.pkl')\n",
    "satellite  =  xr.open_dataset(p_data, 'satellite_dataset.nc')\n",
    "bat_spain  =  np.loadtxt(p_data, 'SPAIN_2020_bath.dat')\n",
    "bat_gebco  =  xr.open_dataset(p_data, 'GEBCO_2019_bath.nc')\n",
    "\n",
    "calval_case = calval.CalVal(buoy, csiro, satellite, 'CSIRO', bat_spain, bat_gebco)"
   ]
  },
  {
   "cell_type": "code",
   "execution_count": null,
   "metadata": {},
   "outputs": [],
   "source": [
    "#print('Time wasted initializing the constructor: ' + str(time()-t0))\n",
    "#\n",
    "#calval_case.buoy_comparison('raw')\n",
    "#calval_case.buoy_comparison('sat_corr')\n",
    "#calval_case.buoy_comparison('buoy_corr')\n",
    "#\n",
    "#calval_case.buoy_validation('raw')\n",
    "#calval_case.buoy_validation('sat_corr')\n",
    "#calval_case.buoy_validation('buoy_corr')\n",
    "#\n",
    "#print('Time of the script: ' + str(time-t0()))"
   ]
  }
 ],
 "metadata": {
  "kernelspec": {
   "display_name": "Python 3",
   "language": "python",
   "name": "python3"
  },
  "language_info": {
   "codemirror_mode": {
    "name": "ipython",
    "version": 3
   },
   "file_extension": ".py",
   "mimetype": "text/x-python",
   "name": "python",
   "nbconvert_exporter": "python",
   "pygments_lexer": "ipython3",
   "version": "3.7.4"
  }
 },
 "nbformat": 4,
 "nbformat_minor": 4
}
